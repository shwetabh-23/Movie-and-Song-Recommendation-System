{
 "cells": [
  {
   "cell_type": "code",
   "execution_count": 8,
   "metadata": {},
   "outputs": [],
   "source": [
    "import numpy as np\n",
    "import pandas as pd"
   ]
  },
  {
   "cell_type": "code",
   "execution_count": 9,
   "metadata": {},
   "outputs": [],
   "source": [
    "songs_top_10 = pd.read_csv('top10s.csv', encoding = 'latin-1')\n",
    "songs_top_50 = pd.read_csv('top50contry.csv', encoding = 'latin-1')\n",
    "songs_top_10.drop(['year', 'artist', 'Unnamed: 0'], axis = 1, inplace=True)\n",
    "songs_top_50.drop(['year', 'artist','Unnamed: 0'], axis = 1, inplace=True)\n",
    "\n",
    "songs_top_50.drop(['country', 'added'], axis = 1, inplace=True)"
   ]
  },
  {
   "cell_type": "code",
   "execution_count": 10,
   "metadata": {},
   "outputs": [],
   "source": [
    "songs_top_50.set_index(np.arange(start = (len(songs_top_10) + 1), stop = (len(songs_top_10)) + 1 + (len(songs_top_50))), inplace=True)\n",
    "songs = pd.concat([songs_top_10, songs_top_50]).drop_duplicates()"
   ]
  },
  {
   "cell_type": "code",
   "execution_count": 11,
   "metadata": {},
   "outputs": [],
   "source": [
    "drop_songs = songs[songs['top genre'].isna() == True]\n",
    "songs = songs.drop(drop_songs.index.values, )\n",
    "songs.drop('dur', axis = 1, inplace=True)"
   ]
  },
  {
   "cell_type": "code",
   "execution_count": 12,
   "metadata": {},
   "outputs": [],
   "source": [
    "songs.drop([749], inplace=True, axis = 0)"
   ]
  },
  {
   "cell_type": "code",
   "execution_count": 13,
   "metadata": {},
   "outputs": [],
   "source": [
    "def song_reccomendation(song):\n",
    "    \n",
    "    req_matrix = songs[songs['title'] == song]\n",
    "    genre_req = (songs[songs['title'] == song]['top genre']).tolist()\n",
    "    corr_matrix = songs[songs['top genre'] == genre_req[0]]\n",
    "    corr_matrix.drop(['title', 'top genre'], axis = 1, inplace=True)\n",
    "    req_matrix.drop(['title', 'top genre'], axis = 1, inplace=True)\n",
    "    recommends = sorted(list(enumerate(corr_matrix.corrwith(req_matrix.iloc[0], axis = 1))),\n",
    "                    reverse=True, key = lambda x: x[1])[0:10]\n",
    "    recommended_songs = []\n",
    "    for i in recommends:\n",
    "        #print(i[0])\n",
    "        recommended_songs.append(songs['title'][i[0]])\n",
    "    return recommended_songs    "
   ]
  },
  {
   "cell_type": "code",
   "execution_count": 14,
   "metadata": {},
   "outputs": [
    {
     "name": "stderr",
     "output_type": "stream",
     "text": [
      "C:\\ProgramData\\Anaconda3\\lib\\site-packages\\pandas\\core\\frame.py:4163: SettingWithCopyWarning: \n",
      "A value is trying to be set on a copy of a slice from a DataFrame\n",
      "\n",
      "See the caveats in the documentation: https://pandas.pydata.org/pandas-docs/stable/user_guide/indexing.html#returning-a-view-versus-a-copy\n",
      "  return super().drop(\n"
     ]
    },
    {
     "data": {
      "text/plain": [
       "['Love The Way You Lie',\n",
       " 'The Way',\n",
       " 'Sheezus',\n",
       " 'Foolish Games',\n",
       " 'Dog Days Are Over',\n",
       " 'Without You (feat. Usher)',\n",
       " 'The One That Got Away',\n",
       " 'Just Can\\x92t Get Enough',\n",
       " 'Loca',\n",
       " 'Underneath the Tree']"
      ]
     },
     "execution_count": 14,
     "metadata": {},
     "output_type": "execute_result"
    }
   ],
   "source": [
    "song_reccomendation('Bad Romance')"
   ]
  },
  {
   "cell_type": "code",
   "execution_count": null,
   "metadata": {},
   "outputs": [],
   "source": []
  }
 ],
 "metadata": {
  "kernelspec": {
   "display_name": "Python 3",
   "language": "python",
   "name": "python3"
  },
  "language_info": {
   "codemirror_mode": {
    "name": "ipython",
    "version": 3
   },
   "file_extension": ".py",
   "mimetype": "text/x-python",
   "name": "python",
   "nbconvert_exporter": "python",
   "pygments_lexer": "ipython3",
   "version": "3.8.5"
  }
 },
 "nbformat": 4,
 "nbformat_minor": 4
}
